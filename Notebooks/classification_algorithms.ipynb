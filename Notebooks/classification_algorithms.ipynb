{
 "cells": [
  {
   "attachments": {},
   "cell_type": "markdown",
   "metadata": {},
   "source": [
    "### Library Import"
   ]
  },
  {
   "cell_type": "code",
   "execution_count": 8,
   "metadata": {},
   "outputs": [
    {
     "ename": "ModuleNotFoundError",
     "evalue": "No module named 'pandas'",
     "output_type": "error",
     "traceback": [
      "\u001b[0;31m---------------------------------------------------------------------------\u001b[0m",
      "\u001b[0;31mModuleNotFoundError\u001b[0m                       Traceback (most recent call last)",
      "Cell \u001b[0;32mIn[8], line 2\u001b[0m\n\u001b[1;32m      1\u001b[0m \u001b[39mfrom\u001b[39;00m \u001b[39mpathlib\u001b[39;00m \u001b[39mimport\u001b[39;00m Path \n\u001b[0;32m----> 2\u001b[0m \u001b[39mimport\u001b[39;00m \u001b[39mpandas\u001b[39;00m \u001b[39mas\u001b[39;00m \u001b[39mpd\u001b[39;00m\n\u001b[1;32m      3\u001b[0m \u001b[39mimport\u001b[39;00m \u001b[39mnumpy\u001b[39;00m \u001b[39mas\u001b[39;00m \u001b[39mnp\u001b[39;00m\n\u001b[1;32m      4\u001b[0m \u001b[39mimport\u001b[39;00m \u001b[39mseaborn\u001b[39;00m \u001b[39mas\u001b[39;00m \u001b[39msns\u001b[39;00m\n",
      "\u001b[0;31mModuleNotFoundError\u001b[0m: No module named 'pandas'"
     ]
    }
   ],
   "source": [
    "from pathlib import Path \n",
    "import pandas as pd\n",
    "import numpy as np\n",
    "import seaborn as sns\n",
    "import matplotlib.pyplot as plt\n",
    "from sklearn.decomposition import PCA\n",
    "from sklearn.preprocessing import StandardScaler\n",
    "from sklearn.linear_model import LogisticRegression\n",
    "from sklearn.model_selection import train_test_split\n",
    "from sklearn.neighbors import KNeighborsClassifier\n",
    "from sklearn.model_selection import StratifiedShuffleSplit\n",
    "from sklearn.ensemble import RandomForestClassifier\n",
    "from sklearn.naive_bayes import BernoulliNB\n",
    "from sklearn.svm import SVC\n",
    "from sklearn.cluster import KMeans"
   ]
  },
  {
   "attachments": {},
   "cell_type": "markdown",
   "metadata": {},
   "source": [
    "### Data Loading"
   ]
  },
  {
   "cell_type": "code",
   "execution_count": 2,
   "metadata": {},
   "outputs": [
    {
     "ename": "NameError",
     "evalue": "name 'pd' is not defined",
     "output_type": "error",
     "traceback": [
      "\u001b[0;31m---------------------------------------------------------------------------\u001b[0m",
      "\u001b[0;31mNameError\u001b[0m                                 Traceback (most recent call last)",
      "Cell \u001b[0;32mIn[2], line 1\u001b[0m\n\u001b[0;32m----> 1\u001b[0m classification_all \u001b[39m=\u001b[39m pd\u001b[39m.\u001b[39mread_csv(Path(\u001b[39mf\u001b[39m\u001b[39m'\u001b[39m\u001b[39m/Users/hhudson/Downloads/classification_data_all.csv\u001b[39m\u001b[39m'\u001b[39m))\n",
      "\u001b[0;31mNameError\u001b[0m: name 'pd' is not defined"
     ]
    }
   ],
   "source": [
    "classification_all = pd.read_csv(Path(f'/Users/hhudson/Downloads/classification_data_all.csv'))"
   ]
  },
  {
   "cell_type": "code",
   "execution_count": null,
   "metadata": {},
   "outputs": [],
   "source": [
    "data = classification_all.iloc[:, 1:]\n",
    "target = classification_all.iloc[:, 0]\n",
    "scaled_data = StandardScaler().fit_transform(data)\n",
    "pca = PCA(n_components=10)\n",
    "reduced_data = pca.fit_transform(scaled_data)\n",
    "X_train, X_test, y_train, y_test = train_test_split(reduced_data, target, test_size=0.3)"
   ]
  },
  {
   "attachments": {},
   "cell_type": "markdown",
   "metadata": {},
   "source": [
    "### KNN Classification"
   ]
  },
  {
   "attachments": {},
   "cell_type": "markdown",
   "metadata": {},
   "source": [
    "KNN Classification works by first fitting the data with the target values, and then when predicting the model uses the given number of neighbors in order to compare the data point's to that number of neighbors in order to vote on which target values are more prominent with said neighbors and then assigning that target value to the data point."
   ]
  },
  {
   "cell_type": "code",
   "execution_count": null,
   "metadata": {},
   "outputs": [],
   "source": [
    "skf = StratifiedShuffleSplit(n_splits=5, random_state=0)\n",
    "KNN_accuracies = []\n",
    "other_p_value = []\n",
    "for i, (train_index, test_index) in enumerate(skf.split(data, target)):\n",
    "    KNN = KNeighborsClassifier(n_neighbors=10, p=1) \n",
    "    KNN.fit(reduced_data[train_index], target.iloc[train_index])\n",
    "    KNN_scores = KNN.score(reduced_data[test_index], target.iloc[test_index])\n",
    "    KNN_accuracies.append(KNN_scores)\n",
    "    KNN2 = KNeighborsClassifier(n_neighbors=10, p=1) \n",
    "    KNN2.fit(reduced_data[train_index], target.iloc[train_index])\n",
    "    KNN_scores = KNN2.score(reduced_data[test_index], target.iloc[test_index])\n",
    "    other_p_value.append(KNN_scores)\n",
    "print(KNN_accuracies)\n",
    "print(other_p_value)"
   ]
  },
  {
   "attachments": {},
   "cell_type": "markdown",
   "metadata": {},
   "source": [
    "### Logistic Regression Classification"
   ]
  },
  {
   "attachments": {},
   "cell_type": "markdown",
   "metadata": {},
   "source": [
    "Logistic Regression Classification works by taking the fitted data points, and generating a curve based on the trends present within those data points; the model then applies the values that it is predicting to the equation of the curve which then produces the corresponding target value."
   ]
  },
  {
   "cell_type": "code",
   "execution_count": null,
   "metadata": {},
   "outputs": [],
   "source": [
    "skf_reg = StratifiedShuffleSplit(n_splits=5, random_state=0)\n",
    "logreg_accuracies = []\n",
    "for i, (train_index, test_index) in enumerate(skf_reg.split(data, target)):\n",
    "    regression_data = LogisticRegression().fit(reduced_data[train_index], target.iloc[train_index])\n",
    "    logreg_accuracies.append(regression_data.score(reduced_data[test_index], target.iloc[test_index]))\n",
    "logreg_accuracies"
   ]
  },
  {
   "attachments": {},
   "cell_type": "markdown",
   "metadata": {},
   "source": [
    "### Random Forest Classification"
   ]
  },
  {
   "attachments": {},
   "cell_type": "markdown",
   "metadata": {},
   "source": [
    "Random Forest Classification uses numerous decision trees each with their own probabilities of a certain cancer type being the unknown target value for the data point, are averaged in order to predict which cancer type is correct."
   ]
  },
  {
   "cell_type": "code",
   "execution_count": null,
   "metadata": {},
   "outputs": [],
   "source": [
    "skf_reg = StratifiedShuffleSplit(n_splits=5, random_state=0)\n",
    "rfc_accuracies = []\n",
    "for i, (train_index, test_index) in enumerate(skf_reg.split(data, target)):\n",
    "    rfc = RandomForestClassifier()\n",
    "    rfc.fit(reduced_data[train_index], target.iloc[train_index])\n",
    "    rfc_accuracies.append(rfc.score(reduced_data[test_index], target.iloc[test_index]))\n",
    "rfc_accuracies"
   ]
  },
  {
   "attachments": {},
   "cell_type": "markdown",
   "metadata": {},
   "source": [
    "### Naive Bayes Classification"
   ]
  },
  {
   "attachments": {},
   "cell_type": "markdown",
   "metadata": {},
   "source": [
    "Naive Bayes Classification uses the probabilities of gene expressions levels from the training data, to compare a given expression level with its probability of being one of the five types of cancers present in the data set. "
   ]
  },
  {
   "cell_type": "code",
   "execution_count": null,
   "metadata": {},
   "outputs": [],
   "source": [
    "skf_NB = StratifiedShuffleSplit(n_splits=5, random_state=0)\n",
    "NB_accuracies = []\n",
    "for i, (train_index, test_index) in enumerate(skf_NB.split(data, target)):\n",
    "    NB = BernoulliNB()\n",
    "    NB.fit(reduced_data[train_index], target.iloc[train_index])\n",
    "    NB_accuracies.append(NB.score(reduced_data[test_index], target.iloc[test_index]))\n",
    "    NB_prediction = NB.predict(reduced_data[train_index])\n",
    "NB_accuracies\n",
    "NB_prediction"
   ]
  },
  {
   "attachments": {},
   "cell_type": "markdown",
   "metadata": {},
   "source": [
    "### Support Vector Machines"
   ]
  },
  {
   "attachments": {},
   "cell_type": "markdown",
   "metadata": {},
   "source": [
    "Support vector machines classify by increasing the dimensions of the data until a support vector classifier can seperate the data points with different targets, it then will classify a point that's target value is unknown by comparing its orientation to that of the supper vector classifier."
   ]
  },
  {
   "cell_type": "code",
   "execution_count": null,
   "metadata": {},
   "outputs": [],
   "source": [
    "skf_svm = StratifiedShuffleSplit(n_splits=5, random_state=0)\n",
    "svm_accuracies = []\n",
    "for i, (train_index, test_index) in enumerate(skf_svm.split(data, target)):\n",
    "    svm_class = SVC().fit(reduced_data[train_index], target.iloc[train_index])\n",
    "    score_svm = svm_class.score(reduced_data[test_index], target.iloc[test_index])\n",
    "    svm_accuracies.append(score_svm)\n",
    "svm_accuracies"
   ]
  },
  {
   "attachments": {},
   "cell_type": "markdown",
   "metadata": {},
   "source": [
    "### Boxplot Accuracy Comparison"
   ]
  },
  {
   "cell_type": "code",
   "execution_count": null,
   "metadata": {},
   "outputs": [],
   "source": [
    "all_accuracies = [KNN_accuracies, logreg_accuracies, rfc_accuracies, NB_accuracies, svm_accuracies]\n",
    "model_names = ('KNN', 'LogisticRegression', 'RandomForestClassifier', 'Naive Bayes')\n",
    "ax5 = sns.boxplot(all_accuracies).set(xlabel='Classification Model', ylabel='Accuracy')\n",
    "ax5[0].set_xticklabels([\"KNN\", \"LogisticRegression\", \"RandomForestClassifier\", \"Naive Bayes\", \"SVM\"], rotation=45)"
   ]
  }
 ],
 "metadata": {
  "kernelspec": {
   "display_name": "Python 3",
   "language": "python",
   "name": "python3"
  },
  "language_info": {
   "codemirror_mode": {
    "name": "ipython",
    "version": 3
   },
   "file_extension": ".py",
   "mimetype": "text/x-python",
   "name": "python",
   "nbconvert_exporter": "python",
   "pygments_lexer": "ipython3",
   "version": "3.10.5"
  },
  "orig_nbformat": 4
 },
 "nbformat": 4,
 "nbformat_minor": 2
}
