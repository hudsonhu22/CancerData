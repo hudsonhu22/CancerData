{
 "cells": [
  {
   "cell_type": "code",
   "execution_count": null,
   "metadata": {},
   "outputs": [],
   "source": [
    "import numpy as np\n",
    "from sklearn.datasets import load_breast_cancer\n",
    "data_before_split = load_breast_cancer()"
   ]
  },
  {
   "attachments": {},
   "cell_type": "markdown",
   "metadata": {},
   "source": [
    "### KNN Implementation"
   ]
  },
  {
   "cell_type": "code",
   "execution_count": null,
   "metadata": {},
   "outputs": [],
   "source": [
    "class Knn:\n",
    "    \"\"\"Knn \"\"\"\n",
    "    def __init__(self, k, threshold=0.5):\n",
    "        self.value = k\n",
    "        self.threshold = threshold\n",
    "    \n",
    "    def fit(self, xtrain, ytrain):\n",
    "        self.data = xtrain\n",
    "        self.target = ytrain\n",
    "    \n",
    "    def predict(self, xtest):\n",
    "        proba = self.predict_proba(xtest)\n",
    "        return (proba[:,1] > self.threshold).astype(np.float32)\n",
    "\n",
    "    def predict_proba(self, xtest):\n",
    "        \n",
    "        return_list = []\n",
    "        for x in xtest:\n",
    "            distances = (((self.data - x) ** 2).sum(axis=1))\n",
    "            indices = np.argsort(distances)[:self.value]\n",
    "            probability = self.target[indices].mean()\n",
    "            return_list.append(probability)\n",
    "        \n",
    "        return_array = np.array(return_list)\n",
    "        return np.stack([1- return_array, return_array], axis=1)\n",
    "            \n",
    "first_try = Knn(10)\n",
    "first_try.fit(data_before_split.data[290:], data_before_split.target[290:])\n",
    "print(first_try.predict_proba(data_before_split.data[290:]))\n",
    "#print(data_before_split.target[290:])\n",
    "#use argsort to speed up"
   ]
  },
  {
   "attachments": {},
   "cell_type": "markdown",
   "metadata": {},
   "source": [
    "### KNN Testing"
   ]
  },
  {
   "cell_type": "code",
   "execution_count": null,
   "metadata": {},
   "outputs": [],
   "source": [
    "def data_splitter(data, trainamt):\n",
    "    \"\"\"Returns training and test data sets based on the percentage of training set inputted.\"\"\"\n",
    "    copy_of = data\n",
    "    num_sample = int((data.data.shape)[0] * trainamt)\n",
    "    indices = np.arange(data.data.shape[0])\n",
    "    np.random.shuffle(indices)\n",
    "    indices = indices[:num_sample]\n",
    "    is_test = np.ones(data.data.shape[0]).astype(bool)\n",
    "    is_test[indices] = False\n",
    "    xtrain = data.data[~is_test]\n",
    "    ytrain = data.target[~indices]\n",
    "    xtest = data.data[is_test]\n",
    "    ytest = data.target[is_test]\n",
    "    return xtrain, ytrain, xtest, ytest"
   ]
  },
  {
   "cell_type": "code",
   "execution_count": null,
   "metadata": {},
   "outputs": [],
   "source": [
    "def cross_validation(data, trainamt, validamt, testamt):\n",
    "    xtrain_valid, ytrain_valid, testamt, testtarget = data_splitter(data, trainamt + validamt)\n",
    "    split = xtrain_valid.shape[0] // 5  \n",
    "    np.split(xtrain_valid, split)\n",
    "    np.split(ytrain_valid, split)"
   ]
  },
  {
   "cell_type": "code",
   "execution_count": null,
   "metadata": {},
   "outputs": [],
   "source": [
    "def accuracy_check(prediction, ytest):\n",
    "    final = prediction == ytest\n",
    "    return final.astype(int).sum() / final.shape[0]"
   ]
  }
 ],
 "metadata": {
  "kernelspec": {
   "display_name": "Python 3",
   "language": "python",
   "name": "python3"
  },
  "language_info": {
   "name": "python",
   "version": "3.10.5"
  },
  "orig_nbformat": 4
 },
 "nbformat": 4,
 "nbformat_minor": 2
}
