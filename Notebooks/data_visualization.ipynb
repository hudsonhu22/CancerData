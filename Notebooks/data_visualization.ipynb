{
 "cells": [
  {
   "attachments": {},
   "cell_type": "markdown",
   "metadata": {},
   "source": [
    "### Library Import"
   ]
  },
  {
   "cell_type": "code",
   "execution_count": 1,
   "metadata": {},
   "outputs": [
    {
     "ename": "ModuleNotFoundError",
     "evalue": "No module named 'pandas'",
     "output_type": "error",
     "traceback": [
      "\u001b[0;31m---------------------------------------------------------------------------\u001b[0m",
      "\u001b[0;31mModuleNotFoundError\u001b[0m                       Traceback (most recent call last)",
      "Cell \u001b[0;32mIn[1], line 2\u001b[0m\n\u001b[1;32m      1\u001b[0m \u001b[39mfrom\u001b[39;00m \u001b[39mpathlib\u001b[39;00m \u001b[39mimport\u001b[39;00m Path \n\u001b[0;32m----> 2\u001b[0m \u001b[39mimport\u001b[39;00m \u001b[39mpandas\u001b[39;00m \u001b[39mas\u001b[39;00m \u001b[39mpd\u001b[39;00m\n\u001b[1;32m      3\u001b[0m \u001b[39mimport\u001b[39;00m \u001b[39mnumpy\u001b[39;00m \u001b[39mas\u001b[39;00m \u001b[39mnp\u001b[39;00m\n\u001b[1;32m      4\u001b[0m \u001b[39mimport\u001b[39;00m \u001b[39mseaborn\u001b[39;00m \u001b[39mas\u001b[39;00m \u001b[39msns\u001b[39;00m\n",
      "\u001b[0;31mModuleNotFoundError\u001b[0m: No module named 'pandas'"
     ]
    }
   ],
   "source": [
    "from pathlib import Path \n",
    "import pandas as pd\n",
    "import numpy as np\n",
    "import seaborn as sns\n",
    "import matplotlib.pyplot as plt\n",
    "from sklearn.decomposition import PCA\n",
    "from sklearn.preprocessing import StandardScaler\n",
    "from sklearn.linear_model import LogisticRegression\n",
    "from sklearn.model_selection import train_test_split\n",
    "from sklearn.neighbors import KNeighborsClassifier\n",
    "from sklearn.model_selection import StratifiedShuffleSplit\n",
    "from sklearn.ensemble import RandomForestClassifier\n",
    "from sklearn.naive_bayes import BernoulliNB\n",
    "from sklearn.svm import SVC\n",
    "from sklearn.cluster import KMeans"
   ]
  },
  {
   "cell_type": "code",
   "execution_count": null,
   "metadata": {},
   "outputs": [],
   "source": [
    "classification_all = pd.read_csv(Path(f'/Users/hhudson/Downloads/classification_data_all.csv'))"
   ]
  },
  {
   "attachments": {},
   "cell_type": "markdown",
   "metadata": {},
   "source": [
    "Density of each cancer type for three different genes out of the total samples."
   ]
  },
  {
   "cell_type": "code",
   "execution_count": null,
   "metadata": {},
   "outputs": [],
   "source": [
    "gene_list = ['GK3P','LARP4B','OIP5']\n",
    "cancer_count = classification_all.groupby(['cancer']).count()\n",
    "plt.figure()\n",
    "sns.kdeplot(data=classification_all, x='GK3P', hue='cancer')\n",
    "plt.figure()\n",
    "sns.kdeplot(data=classification_all, x='LARP4B', hue='cancer')\n",
    "plt.figure()\n",
    "sns.kdeplot(data=classification_all, x='OIP5', hue='cancer')"
   ]
  },
  {
   "attachments": {},
   "cell_type": "markdown",
   "metadata": {},
   "source": []
  },
  {
   "cell_type": "code",
   "execution_count": null,
   "metadata": {},
   "outputs": [],
   "source": [
    "data2 = classification_all.iloc[:, 1:]\n",
    "target2 = classification_all.iloc[:, 0]\n",
    "scaled_data2 = StandardScaler().fit_transform(data2)\n",
    "print(scaled_data2.shape)\n",
    "print(classification_all.shape)\n",
    "pca2 = PCA(n_components=2)\n",
    "pca2.fit_transform(scaled_data2.transpose())\n",
    "print(pca2)\n",
    "pca2"
   ]
  },
  {
   "cell_type": "code",
   "execution_count": null,
   "metadata": {},
   "outputs": [],
   "source": [
    "print(pca2.components_)\n",
    "print(pca2.explained_variance_ratio_)\n",
    "#Features attribute non existent\n",
    "#Put the correct gene names in.\n",
    "ax = sns.scatterplot(data=classification_all, x=pca2.components_[0], y=pca2.components_[1], hue='cancer')\n",
    "ax.set(xlabel='PCA 1' + f' ({int(pca2.explained_variance_ratio_[0])} Variance)', ylabel='PCA 2' + f' ({int(pca2.explained_variance_ratio_[1])} Variance)')\n",
    "# sns.scatterplot(data=scaled_data2, x=pca2.feature_names_in_[0], y=pca2.feature_names_in_[1])"
   ]
  },
  {
   "attachments": {},
   "cell_type": "markdown",
   "metadata": {},
   "source": [
    "Overlapping"
   ]
  },
  {
   "attachments": {},
   "cell_type": "markdown",
   "metadata": {},
   "source": [
    "pca3 = PCA(n_components=3)\n",
    "pca3.fit_transform(data.transpose())\n",
    "ax1 = sns.scatterplot(data=classification_all, x=pca3.components_[0], y=pca3.components_[2], hue='cancer')\n",
    "ax1.set(xlabel='PCA 1' + f' ({int(pca3.explained_variance_ratio_[0])} Variance)', ylabel='PCA 3' + f' ({int(pca3.explained_variance_ratio_[2])} Variance)')"
   ]
  }
 ],
 "metadata": {
  "kernelspec": {
   "display_name": "Python 3",
   "language": "python",
   "name": "python3"
  },
  "language_info": {
   "codemirror_mode": {
    "name": "ipython",
    "version": 3
   },
   "file_extension": ".py",
   "mimetype": "text/x-python",
   "name": "python",
   "nbconvert_exporter": "python",
   "pygments_lexer": "ipython3",
   "version": "3.10.5"
  },
  "orig_nbformat": 4
 },
 "nbformat": 4,
 "nbformat_minor": 2
}
